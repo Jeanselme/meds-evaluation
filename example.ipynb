{
 "cells": [
  {
   "cell_type": "code",
   "execution_count": null,
   "id": "initial_id",
   "metadata": {},
   "outputs": [],
   "source": [
    "import datetime\n",
    "\n",
    "import numpy as np\n",
    "import polars as pl\n",
    "from sklearn.metrics import accuracy_score, roc_auc_score"
   ]
  },
  {
   "cell_type": "markdown",
   "id": "afee383c56d538e8",
   "metadata": {},
   "source": [
    "Construct an example model prediction dataframe"
   ]
  },
  {
   "cell_type": "code",
   "execution_count": null,
   "id": "ef5642647cc6d759",
   "metadata": {},
   "outputs": [],
   "source": [
    "from sklearn.datasets import load_breast_cancer\n",
    "from sklearn.linear_model import LogisticRegression\n",
    "\n",
    "data = load_breast_cancer()\n",
    "X_train = data.data[:400]\n",
    "y_train = data.target[:400]\n",
    "X_test = data.data[400:]\n",
    "y_test = data.target[400:]\n",
    "\n",
    "model = LogisticRegression(random_state=0)\n",
    "model.fit(X_train, y_train)\n",
    "y_pred = model.predict(X_test)\n",
    "y_prob = model.predict_proba(X_test)[:, 1]\n",
    "\n",
    "date = datetime.datetime(2020, 1, 1, 12, 0, 0)\n",
    "\n",
    "df = pl.DataFrame(\n",
    "    {\n",
    "        \"patient_id\": np.arange(400, 400 + len(y_test)),\n",
    "        \"prediction_time\": np.repeat(date, len(y_test)),\n",
    "        \"binary_value\": y_test,\n",
    "        \"predicted_value\": y_pred,\n",
    "        \"predicted_probability\": y_prob,\n",
    "    }\n",
    ")\n",
    "\n",
    "df"
   ]
  },
  {
   "cell_type": "code",
   "execution_count": null,
   "id": "14c891f07bf964cb",
   "metadata": {},
   "outputs": [],
   "source": [
    "accuracy_score(df[\"binary_value\"], df[\"predicted_value\"])"
   ]
  },
  {
   "cell_type": "code",
   "execution_count": null,
   "id": "b709d21c1f924036",
   "metadata": {},
   "outputs": [],
   "source": [
    "roc_auc_score(df[\"binary_value\"], df[\"predicted_probability\"])"
   ]
  },
  {
   "cell_type": "code",
   "execution_count": null,
   "id": "4c7607f8fdf0fe10",
   "metadata": {},
   "outputs": [],
   "source": [
    "df_repeated_patient_ids = pl.DataFrame(\n",
    "    {\n",
    "        \"patient_id\": np.concatenate((np.repeat(np.arange(400, 400 + len(y_test) // 4), 4, axis=0), [442])),\n",
    "        \"prediction_time\": np.repeat(date, len(y_test)),\n",
    "        \"binary_value\": y_test,\n",
    "        \"predicted_value\": y_pred,\n",
    "        \"predicted_probability\": y_prob,\n",
    "    }\n",
    ")"
   ]
  },
  {
   "cell_type": "code",
   "execution_count": null,
   "id": "f6589fa7a2f1bd15",
   "metadata": {},
   "outputs": [],
   "source": [
    "df_repeated_patient_ids.tail(10)"
   ]
  },
  {
   "cell_type": "code",
   "execution_count": null,
   "id": "786bb8f807812485",
   "metadata": {},
   "outputs": [],
   "source": [
    "33 / 4"
   ]
  },
  {
   "cell_type": "code",
   "execution_count": null,
   "id": "47b53a6ef0a0e61",
   "metadata": {},
   "outputs": [],
   "source": [
    "df_repeated_patient_ids.group_by(\"patient_id\").groups"
   ]
  },
  {
   "cell_type": "code",
   "execution_count": null,
   "id": "bceab6fd178d298",
   "metadata": {},
   "outputs": [],
   "source": [
    "pd_df_repeated_patient_ids = df_repeated_patient_ids.to_pandas()"
   ]
  },
  {
   "cell_type": "code",
   "execution_count": null,
   "id": "afd4168b6c40e8b9",
   "metadata": {},
   "outputs": [],
   "source": [
    "pd_df_repeated_patient_ids"
   ]
  },
  {
   "cell_type": "code",
   "execution_count": null,
   "id": "236099ab99dd88a",
   "metadata": {},
   "outputs": [],
   "source": [
    "pd_df_repeated_patient_ids.groupby(\"patient_id\").groups"
   ]
  },
  {
   "cell_type": "code",
   "execution_count": null,
   "id": "17136c2a2cd82c2",
   "metadata": {},
   "outputs": [],
   "source": [
    "patient_ids = df_repeated_patient_ids[\"patient_id\"]"
   ]
  },
  {
   "cell_type": "code",
   "execution_count": null,
   "id": "801723942f1a8fd4",
   "metadata": {},
   "outputs": [],
   "source": [
    "patient_ids.to_numpy()"
   ]
  },
  {
   "cell_type": "code",
   "execution_count": null,
   "id": "23d7dcb6769c880b",
   "metadata": {},
   "outputs": [],
   "source": [
    "elements, indices = np.unique(patient_ids, return_inverse=True)"
   ]
  },
  {
   "cell_type": "code",
   "execution_count": null,
   "id": "5c5e51238c5facc7",
   "metadata": {},
   "outputs": [],
   "source": [
    "indices"
   ]
  },
  {
   "cell_type": "code",
   "execution_count": null,
   "id": "34c2ca3d85501821",
   "metadata": {},
   "outputs": [],
   "source": [
    "elements"
   ]
  },
  {
   "cell_type": "code",
   "execution_count": null,
   "id": "b38cb1a25543029e",
   "metadata": {},
   "outputs": [],
   "source": [
    "import numpy as np\n",
    "\n",
    "# Step 2: Create a NumPy array\n",
    "arr = np.array([1, 2, 2, 3, 2, 4, 4, 5])\n",
    "\n",
    "# Step 3: Get unique elements and their indices\n",
    "unique_elements, indices = np.unique(arr, return_inverse=True)\n",
    "\n",
    "print(\"Unique elements:\", unique_elements)\n",
    "print(\"Indices of unique elements:\", indices)"
   ]
  },
  {
   "cell_type": "code",
   "execution_count": null,
   "id": "1ccfda9fd79d4711",
   "metadata": {},
   "outputs": [],
   "source": [
    "ids_by_patient_id = np.split(np.arange(len(patient_ids)), np.unique(patient_ids, return_index=True)[1][1:])"
   ]
  },
  {
   "cell_type": "code",
   "execution_count": null,
   "id": "a88769a7941e0426",
   "metadata": {},
   "outputs": [],
   "source": [
    "resampled_ids = [np.random.choice(group, 4, replace=True) for group in ids_by_patient_id]"
   ]
  },
  {
   "cell_type": "code",
   "execution_count": null,
   "id": "e9ef1c927a1fb413",
   "metadata": {},
   "outputs": [],
   "source": [
    "resampled_ids"
   ]
  },
  {
   "cell_type": "code",
   "execution_count": null,
   "id": "70eeb1fc911d7a30",
   "metadata": {},
   "outputs": [],
   "source": [
    "np.concatenate(resampled_ids)"
   ]
  },
  {
   "cell_type": "code",
   "execution_count": null,
   "id": "ed3bdeb4dc8f3673",
   "metadata": {},
   "outputs": [],
   "source": [
    "df_repeated_patient_ids[np.concatenate(resampled_ids).tolist()].tail(10)"
   ]
  },
  {
   "cell_type": "code",
   "execution_count": null,
   "id": "7482fc25fb9fe4dc",
   "metadata": {},
   "outputs": [],
   "source": [
    "df_repeated_patient_ids.take(np.concatenate(resampled_ids)).tail(10)"
   ]
  },
  {
   "cell_type": "code",
   "execution_count": null,
   "id": "d2bed9b00fdfd2d1",
   "metadata": {},
   "outputs": [],
   "source": [
    "pl.DataFrame({\"patient_id\": [1, 1, 2, 2, 3, 3]})"
   ]
  },
  {
   "cell_type": "code",
   "execution_count": null,
   "id": "b9d9d356f0aa28ef",
   "metadata": {},
   "outputs": [],
   "source": []
  }
 ],
 "metadata": {
  "kernelspec": {
   "display_name": "Python 3",
   "language": "python",
   "name": "python3"
  },
  "language_info": {
   "codemirror_mode": {
    "name": "ipython",
    "version": 2
   },
   "file_extension": ".py",
   "mimetype": "text/x-python",
   "name": "python",
   "nbconvert_exporter": "python",
   "pygments_lexer": "ipython2",
   "version": "2.7.6"
  }
 },
 "nbformat": 4,
 "nbformat_minor": 5
}
