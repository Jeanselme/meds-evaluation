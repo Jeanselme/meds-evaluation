{
 "cells": [
  {
   "cell_type": "code",
   "id": "initial_id",
   "metadata": {
    "collapsed": true,
    "ExecuteTime": {
     "end_time": "2024-08-08T20:42:05.683994Z",
     "start_time": "2024-08-08T20:42:05.681362Z"
    }
   },
   "source": [
    "import datetime\n",
    "import numpy as np\n",
    "import polars as pl"
   ],
   "outputs": [],
   "execution_count": 14
  },
  {
   "metadata": {},
   "cell_type": "markdown",
   "source": "Construct an example model prediction dataframe",
   "id": "afee383c56d538e8"
  },
  {
   "metadata": {
    "ExecuteTime": {
     "end_time": "2024-08-08T20:57:17.345633Z",
     "start_time": "2024-08-08T20:57:17.326699Z"
    }
   },
   "cell_type": "code",
   "source": [
    "from sklearn.datasets import load_breast_cancer\n",
    "from sklearn.linear_model import LogisticRegression\n",
    "\n",
    "data = load_breast_cancer()\n",
    "X_train = data.data[:400]\n",
    "y_train = data.target[:400]\n",
    "X_test = data.data[400:]\n",
    "y_test = data.target[400:]\n",
    "\n",
    "model = LogisticRegression(random_state=0)\n",
    "model.fit(X_train, y_train)\n",
    "y_pred = model.predict(X_test)\n",
    "y_prob = model.predict_proba(X_test)[:, 1]\n",
    "\n",
    "df = pl.DataFrame(\n",
    "    {   \"patient_id\": np.arange(400, 400 + len(y_test)),\n",
    "        \"prediction_time\": np.repeat(datetime.datetime(2020, 1, 1, 12, 0, 0), len(y_test)),\n",
    "        \"binary_value\": y_test,\n",
    "        \"predicted_value\": y_pred,\n",
    "        \"predicted_probability\": y_prob,\n",
    "    }\n",
    ")\n",
    "    \n",
    "df"
   ],
   "id": "ef5642647cc6d759",
   "outputs": [
    {
     "name": "stderr",
     "output_type": "stream",
     "text": [
      "/opt/miniconda3/envs/meds-evaluation/lib/python3.9/site-packages/sklearn/linear_model/_logistic.py:469: ConvergenceWarning: lbfgs failed to converge (status=1):\n",
      "STOP: TOTAL NO. of ITERATIONS REACHED LIMIT.\n",
      "\n",
      "Increase the number of iterations (max_iter) or scale the data as shown in:\n",
      "    https://scikit-learn.org/stable/modules/preprocessing.html\n",
      "Please also refer to the documentation for alternative solver options:\n",
      "    https://scikit-learn.org/stable/modules/linear_model.html#logistic-regression\n",
      "  n_iter_i = _check_optimize_result(\n"
     ]
    },
    {
     "data": {
      "text/plain": [
       "shape: (169, 5)\n",
       "┌────────────┬─────────────────────┬──────────────┬─────────────────┬───────────────────────┐\n",
       "│ patient_id ┆ prediction_time     ┆ binary_value ┆ predicted_value ┆ predicted_probability │\n",
       "│ ---        ┆ ---                 ┆ ---          ┆ ---             ┆ ---                   │\n",
       "│ i64        ┆ object              ┆ i64          ┆ i64             ┆ f64                   │\n",
       "╞════════════╪═════════════════════╪══════════════╪═════════════════╪═══════════════════════╡\n",
       "│ 400        ┆ 2020-01-01 12:00:00 ┆ 0            ┆ 0               ┆ 0.00002               │\n",
       "│ 401        ┆ 2020-01-01 12:00:00 ┆ 1            ┆ 1               ┆ 0.990912              │\n",
       "│ 402        ┆ 2020-01-01 12:00:00 ┆ 1            ┆ 1               ┆ 0.960847              │\n",
       "│ 403        ┆ 2020-01-01 12:00:00 ┆ 1            ┆ 1               ┆ 0.999101              │\n",
       "│ 404        ┆ 2020-01-01 12:00:00 ┆ 1            ┆ 1               ┆ 0.99969               │\n",
       "│ …          ┆ …                   ┆ …            ┆ …               ┆ …                     │\n",
       "│ 564        ┆ 2020-01-01 12:00:00 ┆ 0            ┆ 0               ┆ 3.0735e-14            │\n",
       "│ 565        ┆ 2020-01-01 12:00:00 ┆ 0            ┆ 0               ┆ 6.7980e-11            │\n",
       "│ 566        ┆ 2020-01-01 12:00:00 ┆ 0            ┆ 0               ┆ 0.000229              │\n",
       "│ 567        ┆ 2020-01-01 12:00:00 ┆ 0            ┆ 0               ┆ 7.7704e-14            │\n",
       "│ 568        ┆ 2020-01-01 12:00:00 ┆ 1            ┆ 1               ┆ 0.775263              │\n",
       "└────────────┴─────────────────────┴──────────────┴─────────────────┴───────────────────────┘"
      ],
      "text/html": [
       "<div><style>\n",
       ".dataframe > thead > tr,\n",
       ".dataframe > tbody > tr {\n",
       "  text-align: right;\n",
       "  white-space: pre-wrap;\n",
       "}\n",
       "</style>\n",
       "<small>shape: (169, 5)</small><table border=\"1\" class=\"dataframe\"><thead><tr><th>patient_id</th><th>prediction_time</th><th>binary_value</th><th>predicted_value</th><th>predicted_probability</th></tr><tr><td>i64</td><td>object</td><td>i64</td><td>i64</td><td>f64</td></tr></thead><tbody><tr><td>400</td><td>2020-01-01 12:00:00</td><td>0</td><td>0</td><td>0.00002</td></tr><tr><td>401</td><td>2020-01-01 12:00:00</td><td>1</td><td>1</td><td>0.990912</td></tr><tr><td>402</td><td>2020-01-01 12:00:00</td><td>1</td><td>1</td><td>0.960847</td></tr><tr><td>403</td><td>2020-01-01 12:00:00</td><td>1</td><td>1</td><td>0.999101</td></tr><tr><td>404</td><td>2020-01-01 12:00:00</td><td>1</td><td>1</td><td>0.99969</td></tr><tr><td>&hellip;</td><td>&hellip;</td><td>&hellip;</td><td>&hellip;</td><td>&hellip;</td></tr><tr><td>564</td><td>2020-01-01 12:00:00</td><td>0</td><td>0</td><td>3.0735e-14</td></tr><tr><td>565</td><td>2020-01-01 12:00:00</td><td>0</td><td>0</td><td>6.7980e-11</td></tr><tr><td>566</td><td>2020-01-01 12:00:00</td><td>0</td><td>0</td><td>0.000229</td></tr><tr><td>567</td><td>2020-01-01 12:00:00</td><td>0</td><td>0</td><td>7.7704e-14</td></tr><tr><td>568</td><td>2020-01-01 12:00:00</td><td>1</td><td>1</td><td>0.775263</td></tr></tbody></table></div>"
      ]
     },
     "execution_count": 16,
     "metadata": {},
     "output_type": "execute_result"
    }
   ],
   "execution_count": 16
  },
  {
   "metadata": {},
   "cell_type": "code",
   "outputs": [],
   "execution_count": null,
   "source": "",
   "id": "a6c67309cf59b91b"
  }
 ],
 "metadata": {
  "kernelspec": {
   "display_name": "Python 3",
   "language": "python",
   "name": "python3"
  },
  "language_info": {
   "codemirror_mode": {
    "name": "ipython",
    "version": 2
   },
   "file_extension": ".py",
   "mimetype": "text/x-python",
   "name": "python",
   "nbconvert_exporter": "python",
   "pygments_lexer": "ipython2",
   "version": "2.7.6"
  }
 },
 "nbformat": 4,
 "nbformat_minor": 5
}
