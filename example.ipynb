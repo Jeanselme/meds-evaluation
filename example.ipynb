{
 "cells": [
  {
   "cell_type": "code",
   "execution_count": null,
   "id": "initial_id",
   "metadata": {},
   "outputs": [],
   "source": [
    "import datetime\n",
    "\n",
    "import numpy as np\n",
    "import polars as pl"
   ]
  },
  {
   "cell_type": "markdown",
   "id": "afee383c56d538e8",
   "metadata": {},
   "source": [
    "Construct an example model prediction dataframe"
   ]
  },
  {
   "cell_type": "code",
   "execution_count": null,
   "id": "ef5642647cc6d759",
   "metadata": {},
   "outputs": [],
   "source": [
    "from sklearn.datasets import load_breast_cancer\n",
    "from sklearn.linear_model import LogisticRegression\n",
    "\n",
    "data = load_breast_cancer()\n",
    "X_train = data.data[:400]\n",
    "y_train = data.target[:400]\n",
    "X_test = data.data[400:]\n",
    "y_test = data.target[400:]\n",
    "\n",
    "model = LogisticRegression(random_state=0)\n",
    "model.fit(X_train, y_train)\n",
    "y_pred = model.predict(X_test)\n",
    "y_prob = model.predict_proba(X_test)[:, 1]\n",
    "\n",
    "df = pl.DataFrame(\n",
    "    {\n",
    "        \"patient_id\": np.arange(400, 400 + len(y_test)),\n",
    "        \"prediction_time\": np.repeat(datetime.datetime(2020, 1, 1, 12, 0, 0), len(y_test)),\n",
    "        \"binary_value\": y_test,\n",
    "        \"predicted_value\": y_pred,\n",
    "        \"predicted_probability\": y_prob,\n",
    "    }\n",
    ")\n",
    "\n",
    "df"
   ]
  },
  {
   "cell_type": "code",
   "execution_count": null,
   "id": "a6c67309cf59b91b",
   "metadata": {},
   "outputs": [],
   "source": []
  }
 ],
 "metadata": {
  "kernelspec": {
   "display_name": "Python 3",
   "language": "python",
   "name": "python3"
  },
  "language_info": {
   "codemirror_mode": {
    "name": "ipython",
    "version": 2
   },
   "file_extension": ".py",
   "mimetype": "text/x-python",
   "name": "python",
   "nbconvert_exporter": "python",
   "pygments_lexer": "ipython2",
   "version": "2.7.6"
  }
 },
 "nbformat": 4,
 "nbformat_minor": 5
}
